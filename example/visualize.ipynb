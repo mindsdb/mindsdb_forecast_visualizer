{
 "cells": [
  {
   "cell_type": "markdown",
   "metadata": {},
   "source": [
    "# MindsDB Forecast Visualizer - Jupyter notebook example\n",
    "\n",
    "This is a very simple example that showcases how to use the visualizer package from a Jupyter notebook.\n",
    "\n",
    "Let's begin by importing all the packages we need:"
   ]
  },
  {
   "cell_type": "code",
   "execution_count": null,
   "metadata": {},
   "outputs": [],
   "source": [
    "import pandas as pd\n",
    "from lightwood.api.high_level import predictor_from_state\n",
    "from mindsdb_forecast_visualizer.core.forecaster import visualize"
   ]
  },
  {
   "cell_type": "markdown",
   "metadata": {},
   "source": [
    "Now, let's load the Lightwood predictor that is generated when running the `example/train.py` script:"
   ]
  },
  {
   "cell_type": "code",
   "execution_count": null,
   "metadata": {
    "pycharm": {
     "name": "#%%\n"
    }
   },
   "outputs": [],
   "source": [
    "# Load predictor\n",
    "predictor_name = 'arrival_forecast_example'\n",
    "\n",
    "with open(f'./{predictor_name}.py', 'r') as f:\n",
    "    code = f.read()\n",
    "    predictor = predictor_from_state(f'./{predictor_name}.pkl', code)"
   ]
  },
  {
   "cell_type": "markdown",
   "metadata": {},
   "source": [
    "Next, we load a Pandas dataframe that contains the time series we want forecasts for. \n",
    "\n",
    "_Note: always make sure there are enough rows to warm start the predictor for each time series! You can get this number by looking at the `window` value in the training parameters._"
   ]
  },
  {
   "cell_type": "code",
   "execution_count": null,
   "metadata": {
    "pycharm": {
     "name": "#%%\n"
    }
   },
   "outputs": [],
   "source": [
    "query_df = pd.read_csv('./arrivals_test.csv')"
   ]
  },
  {
   "cell_type": "markdown",
   "metadata": {},
   "source": [
    "This particular dataset has four different time series, as determined by the unique values in the \"Country\" column. Let's pick two and plot them:"
   ]
  },
  {
   "cell_type": "code",
   "execution_count": null,
   "metadata": {
    "pycharm": {
     "name": "#%%\n"
    },
    "scrolled": false
   },
   "outputs": [],
   "source": [
    "subset = [{'Country': 'UK'}, {'Country': 'US'}]  # `None` would plot all available series, try it out!\n",
    "\n",
    "visualize(predictor, query_df, subset=subset, renderer='notebook')"
   ]
  },
  {
   "cell_type": "code",
   "execution_count": null,
   "metadata": {},
   "outputs": [],
   "source": []
  }
 ],
 "metadata": {
  "kernelspec": {
   "display_name": "mdb",
   "language": "python",
   "name": "mdb"
  },
  "language_info": {
   "codemirror_mode": {
    "name": "ipython",
    "version": 3
   },
   "file_extension": ".py",
   "mimetype": "text/x-python",
   "name": "python",
   "nbconvert_exporter": "python",
   "pygments_lexer": "ipython3",
   "version": "3.8.6"
  }
 },
 "nbformat": 4,
 "nbformat_minor": 1
}
